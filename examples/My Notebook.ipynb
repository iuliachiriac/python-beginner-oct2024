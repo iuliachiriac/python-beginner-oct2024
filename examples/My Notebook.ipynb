{
 "cells": [
  {
   "cell_type": "markdown",
   "id": "9ecf861c-2772-4c21-9890-ce9b3e8012a5",
   "metadata": {},
   "source": [
    "Creating a variable and printing it:"
   ]
  },
  {
   "cell_type": "code",
   "execution_count": 1,
   "id": "ea6102ab-4e16-4469-b9e9-ea39a623801e",
   "metadata": {},
   "outputs": [
    {
     "name": "stdout",
     "output_type": "stream",
     "text": [
      "10\n"
     ]
    }
   ],
   "source": [
    "x = 10\n",
    "print(x)"
   ]
  },
  {
   "cell_type": "markdown",
   "id": "ab26deb9-2247-4e1d-b1b9-f978664e72b5",
   "metadata": {},
   "source": [
    "Changing the value of the variable:"
   ]
  },
  {
   "cell_type": "code",
   "execution_count": 2,
   "id": "1200d3e5-1c53-46f6-b5f7-4f197251ee49",
   "metadata": {},
   "outputs": [],
   "source": [
    "x = 7.1"
   ]
  },
  {
   "cell_type": "code",
   "execution_count": 3,
   "id": "b0971bb7-bf54-47a0-a390-bdf0e3a1d24f",
   "metadata": {},
   "outputs": [
    {
     "name": "stdout",
     "output_type": "stream",
     "text": [
      "7.1\n"
     ]
    }
   ],
   "source": [
    "print(x)"
   ]
  },
  {
   "cell_type": "code",
   "execution_count": null,
   "id": "639253fb-18a6-4002-9bd5-2b19d3e968cf",
   "metadata": {},
   "outputs": [],
   "source": []
  }
 ],
 "metadata": {
  "kernelspec": {
   "display_name": "Python 3 (ipykernel)",
   "language": "python",
   "name": "python3"
  },
  "language_info": {
   "codemirror_mode": {
    "name": "ipython",
    "version": 3
   },
   "file_extension": ".py",
   "mimetype": "text/x-python",
   "name": "python",
   "nbconvert_exporter": "python",
   "pygments_lexer": "ipython3",
   "version": "3.13.0"
  }
 },
 "nbformat": 4,
 "nbformat_minor": 5
}
